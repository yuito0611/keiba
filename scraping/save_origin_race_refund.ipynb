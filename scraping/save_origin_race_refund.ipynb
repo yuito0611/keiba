{
 "cells": [
  {
   "cell_type": "code",
   "execution_count": 1,
   "metadata": {},
   "outputs": [],
   "source": [
    "import scraping\n",
    "import pickle\n",
    "import pandas as pd\n",
    "import tqdm\n",
    "\n",
    "import os\n",
    "import sys\n",
    "sys.path.append(os.pardir)\n",
    "import common.com as common\n",
    "from common import const,utils"
   ]
  },
  {
   "cell_type": "markdown",
   "metadata": {},
   "source": [
    "# データ取得・保存処理\n",
    "- netkeiba.comから指定された期間に開催された全レース結果を取得し、origin_race_refundテーブルに保存する"
   ]
  },
  {
   "cell_type": "code",
   "execution_count": 2,
   "metadata": {},
   "outputs": [
    {
     "data": {
      "application/vnd.jupyter.widget-view+json": {
       "model_id": "c4d5ffa0e8f44b3f906c667f4e7a4b5e",
       "version_major": 2,
       "version_minor": 0
      },
      "text/plain": [
       "  0%|          | 0/132 [00:00<?, ?it/s]"
      ]
     },
     "metadata": {},
     "output_type": "display_data"
    }
   ],
   "source": [
    "# 開催日一覧を取得\n",
    "from_date = \"2013-01\"\n",
    "to_date = \"2023-12\"\n",
    "kaisai_date_list = scraping.scrape_kaisai_date(from_=from_date, to_=to_date)"
   ]
  },
  {
   "cell_type": "code",
   "execution_count": 3,
   "metadata": {},
   "outputs": [
    {
     "data": {
      "application/vnd.jupyter.widget-view+json": {
       "model_id": "f777128251d141ff9ea51f138d712920",
       "version_major": 2,
       "version_minor": 0
      },
      "text/plain": [
       "  0%|          | 0/1196 [00:00<?, ?it/s]"
      ]
     },
     "metadata": {},
     "output_type": "display_data"
    }
   ],
   "source": [
    "# 開催日に開かれたレースのレースID一覧を取得\n",
    "race_id_list = scraping.scrape_race_id_list(kaisai_date_list)"
   ]
  },
  {
   "cell_type": "code",
   "execution_count": 4,
   "metadata": {},
   "outputs": [],
   "source": [
    "# レースID一覧を保存\n",
    "race_id_list_file_path=f\"{const.RACE_ID_LIST_DIR}{from_date}_{to_date}.pickle\"\n",
    "with open(race_id_list_file_path, \"wb\") as f:\n",
    "    pickle.dump(race_id_list, f)"
   ]
  },
  {
   "cell_type": "code",
   "execution_count": 5,
   "metadata": {},
   "outputs": [
    {
     "name": "stderr",
     "output_type": "stream",
     "text": [
      "100%|██████████| 38002/38002 [4:17:44<00:00,  2.46it/s]  \n"
     ]
    }
   ],
   "source": [
    "# レースID一覧を読み込み\n",
    "with open(race_id_list_file_path, 'rb') as file:\n",
    "    race_id_list = pickle.load(file)\n",
    "\n",
    "\n",
    "# レースID一覧からレースデータを取得\n",
    "race_refund_datas=pd.DataFrame()\n",
    "for race_id in tqdm.tqdm(race_id_list):\n",
    "    data = scraping.scrape_race_refund(race_id)\n",
    "    race_refund_datas = pd.concat([race_refund_datas,data])"
   ]
  },
  {
   "cell_type": "code",
   "execution_count": 6,
   "metadata": {},
   "outputs": [],
   "source": [
    "# レースデータをcsvに保存\n",
    "df = pd.DataFrame(race_refund_datas)\n",
    "\n",
    "df.columns = const.ORIGIN_RACE_REFUND_HEADERS\n",
    "csv_file_path=race_id_list_file_path.replace('.pickle', '.csv').replace('race_id_lists', 'race_refund_datas')\n",
    "df.to_csv(csv_file_path, index=False)"
   ]
  }
 ],
 "metadata": {
  "kernelspec": {
   "display_name": "Python 3",
   "language": "python",
   "name": "python3"
  },
  "language_info": {
   "codemirror_mode": {
    "name": "ipython",
    "version": 3
   },
   "file_extension": ".py",
   "mimetype": "text/x-python",
   "name": "python",
   "nbconvert_exporter": "python",
   "pygments_lexer": "ipython3",
   "version": "3.10.8"
  }
 },
 "nbformat": 4,
 "nbformat_minor": 2
}
