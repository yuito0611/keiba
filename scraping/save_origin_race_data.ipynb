{
 "cells": [
  {
   "cell_type": "code",
   "execution_count": 1,
   "metadata": {},
   "outputs": [],
   "source": [
    "import scraping\n",
    "import pickle\n",
    "import pandas as pd\n",
    "import tqdm\n",
    "\n",
    "import os\n",
    "import sys\n",
    "sys.path.append(os.pardir)\n",
    "import common.com as common\n",
    "from common import const,utils\n",
    "import traceback\n",
    "import time"
   ]
  },
  {
   "cell_type": "markdown",
   "metadata": {},
   "source": [
    "# データ取得・保存処理\n",
    "- netkeiba.comから指定された期間に開催された全レース結果を取得し、origin_race_dataテーブルに保存する"
   ]
  },
  {
   "cell_type": "code",
   "execution_count": 2,
   "metadata": {},
   "outputs": [
    {
     "data": {
      "application/vnd.jupyter.widget-view+json": {
       "model_id": "a933fa67b2384529a31a52a4f393f9e9",
       "version_major": 2,
       "version_minor": 0
      },
      "text/plain": [
       "  0%|          | 0/13 [00:00<?, ?it/s]"
      ]
     },
     "metadata": {},
     "output_type": "display_data"
    }
   ],
   "source": [
    "# 開催日一覧を取得\n",
    "from_date = \"2023-12\"\n",
    "to_date = \"2024-12\"\n",
    "kaisai_date_list = scraping.scrape_kaisai_date(from_=from_date, to_=to_date)"
   ]
  },
  {
   "cell_type": "code",
   "execution_count": 3,
   "metadata": {},
   "outputs": [
    {
     "data": {
      "application/vnd.jupyter.widget-view+json": {
       "model_id": "dafde8a0c3a14a579e6429de662207c3",
       "version_major": 2,
       "version_minor": 0
      },
      "text/plain": [
       "  0%|          | 0/115 [00:00<?, ?it/s]"
      ]
     },
     "metadata": {},
     "output_type": "display_data"
    }
   ],
   "source": [
    "# 開催日に開かれたレースのレースID一覧を取得\n",
    "race_id_list = scraping.scrape_race_id_list(kaisai_date_list)"
   ]
  },
  {
   "cell_type": "code",
   "execution_count": 4,
   "metadata": {},
   "outputs": [],
   "source": [
    "# レースID一覧を保存\n",
    "race_id_list_file_path=f\"{const.RACE_ID_LIST_DIR}{from_date}_{to_date}.pickle\"\n",
    "with open(race_id_list_file_path, \"wb\") as f:\n",
    "    pickle.dump(race_id_list, f)"
   ]
  },
  {
   "cell_type": "code",
   "execution_count": 5,
   "metadata": {},
   "outputs": [
    {
     "name": "stderr",
     "output_type": "stream",
     "text": [
      "  0%|          | 0/3742 [00:00<?, ?it/s]"
     ]
    },
    {
     "name": "stderr",
     "output_type": "stream",
     "text": [
      "100%|██████████| 3742/3742 [25:12<00:00,  2.47it/s]\n"
     ]
    }
   ],
   "source": [
    "# レースID一覧を読み込み\n",
    "with open(race_id_list_file_path, 'rb') as file:\n",
    "    race_id_list = pickle.load(file)\n",
    "\n",
    "# レースID一覧からレースデータを取得\n",
    "race_datas=[]\n",
    "for race_id in tqdm.tqdm(race_id_list):\n",
    "    try:\n",
    "        race_data = scraping.scrape_race_result(race_id)\n",
    "        race_datas.extend(race_data)\n",
    "    except Exception as e:\n",
    "        print(f\"ERROR: in race_id:{race_id}\")\n",
    "        print(traceback.format_exc())    # いつものTracebackが表示される\n",
    "        traceback.print_exc()                 # これでも同じ\n",
    "        continue\n",
    "    time.sleep(2)"
   ]
  },
  {
   "cell_type": "code",
   "execution_count": 6,
   "metadata": {},
   "outputs": [],
   "source": [
    "# レースデータをcsvに保存\n",
    "df = pd.DataFrame(race_datas)\n",
    "\n",
    "df.columns = const.ORIGIN_RACE_DATA_HEADERS\n",
    "csv_file_path=race_id_list_file_path.replace('.pickle', '.csv').replace('race_id_lists', 'race_datas')\n",
    "df.to_csv(csv_file_path, index=False)"
   ]
  },
  {
   "cell_type": "code",
   "execution_count": 7,
   "metadata": {},
   "outputs": [],
   "source": [
    "# postgresにデータを保存\n",
    "common.insert_data(csv_file_path,table_name='origin_race_data')"
   ]
  }
 ],
 "metadata": {
  "kernelspec": {
   "display_name": "Python 3",
   "language": "python",
   "name": "python3"
  },
  "language_info": {
   "codemirror_mode": {
    "name": "ipython",
    "version": 3
   },
   "file_extension": ".py",
   "mimetype": "text/x-python",
   "name": "python",
   "nbconvert_exporter": "python",
   "pygments_lexer": "ipython3",
   "version": "3.10.8"
  }
 },
 "nbformat": 4,
 "nbformat_minor": 2
}
