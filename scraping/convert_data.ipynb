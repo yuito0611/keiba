{
 "cells": [
  {
   "cell_type": "markdown",
   "metadata": {},
   "source": [
    "# origin_race_dataテーブルに保存されているデータを最低限扱いやすいように変換する処理"
   ]
  },
  {
   "cell_type": "code",
   "execution_count": 1,
   "metadata": {},
   "outputs": [],
   "source": [
    "import pandas as pd\n",
    "import tqdm\n",
    "\n",
    "import os\n",
    "import sys\n",
    "sys.path.append(os.pardir)\n",
    "import common.com as common\n",
    "from common import const,utils\n",
    "import copy\n",
    "from datetime import datetime\n"
   ]
  },
  {
   "cell_type": "code",
   "execution_count": 2,
   "metadata": {},
   "outputs": [],
   "source": [
    "# origin_race_dataをpandasのDataFrameに保存\n",
    "data = common.get_all_data(table_name='origin_race_data')\n",
    "origin_data = pd.DataFrame(data, columns=const.ORIGIN_RACE_DATA_HEADERS)\n",
    "converted_data = copy.deepcopy(origin_data)"
   ]
  },
  {
   "cell_type": "code",
   "execution_count": 3,
   "metadata": {},
   "outputs": [
    {
     "name": "stderr",
     "output_type": "stream",
     "text": [
      " 93%|█████████▎| 27/29 [00:02<00:00, 19.14it/s]C:\\Users\\ionde\\AppData\\Local\\Temp\\ipykernel_32576\\2278154381.py:9: FutureWarning: Downcasting behavior in `replace` is deprecated and will be removed in a future version. To retain the old behavior, explicitly call `result.infer_objects(copy=False)`. To opt-in to the future behavior, set `pd.set_option('future.no_silent_downcasting', True)`\n",
      "  converted_data['着順'] = converted_data['着順'].replace(data, int(data))\n",
      "100%|██████████| 29/29 [00:02<00:00, 11.92it/s]\n"
     ]
    },
    {
     "data": {
      "text/plain": [
       "{1, 2, 3, 4, 5, 6, 7, 8, 9, 10, 11, 12, 13, 14, 15, 16, 17, 18, 99}"
      ]
     },
     "execution_count": 3,
     "metadata": {},
     "output_type": "execute_result"
    }
   ],
   "source": [
    "rank_data_set = set(converted_data['着順'])\n",
    "rank_data_set\n",
    "\n",
    "# 着順に「降、失、中」など文字が含まれ、数値に変換不可である場合に無効な値（99）を設定\n",
    "for data in tqdm.tqdm(rank_data_set):    \n",
    "    if utils.isfloat(data) == False:\n",
    "        converted_data['着順'] = converted_data['着順'].replace(data, const.INVALID_ORDER)\n",
    "    else:\n",
    "        converted_data['着順'] = converted_data['着順'].replace(data, int(data))\n",
    "\n",
    "rank_data_set = set(converted_data['着順'])\n",
    "rank_data_set"
   ]
  },
  {
   "cell_type": "code",
   "execution_count": 4,
   "metadata": {},
   "outputs": [],
   "source": [
    "# 走破時間を秒数に変換\n",
    "def convert_time(time):\n",
    "    try:\n",
    "        time_obj = datetime.strptime(time, \"%M:%S.%f\").time()\n",
    "        time_seconds = time_obj.hour * 3600 + time_obj.minute * 60 + time_obj.second + time_obj.microsecond / 1000000\n",
    "        return time_seconds\n",
    "    except ValueError:\n",
    "        return None\n",
    "    \n",
    "\n",
    "converted_data['走破時間'] = converted_data['走破時間'].map(lambda data: convert_time(str(data)))"
   ]
  },
  {
   "cell_type": "code",
   "execution_count": 5,
   "metadata": {},
   "outputs": [],
   "source": [
    "distance_set=set(converted_data['距離'])"
   ]
  },
  {
   "cell_type": "code",
   "execution_count": 6,
   "metadata": {},
   "outputs": [
    {
     "name": "stderr",
     "output_type": "stream",
     "text": [
      "100%|█████████▉| 6814/6815 [10:42<00:00, 28.15it/s]C:\\Users\\ionde\\AppData\\Local\\Temp\\ipykernel_32576\\3088802275.py:6: FutureWarning: Downcasting behavior in `replace` is deprecated and will be removed in a future version. To retain the old behavior, explicitly call `result.infer_objects(copy=False)`. To opt-in to the future behavior, set `pd.set_option('future.no_silent_downcasting', True)`\n",
      "  converted_data['オッズ'] = converted_data['オッズ'].replace(data, float(data))\n",
      "100%|██████████| 6815/6815 [10:42<00:00, 10.60it/s]\n"
     ]
    }
   ],
   "source": [
    "odds_set = set(converted_data['オッズ'])\n",
    "for data in tqdm.tqdm(odds_set):    \n",
    "    if utils.isfloat(data) == False:\n",
    "        converted_data['オッズ'] = converted_data['オッズ'].replace(data, 0)\n",
    "    else:\n",
    "        converted_data['オッズ'] = converted_data['オッズ'].replace(data, float(data))"
   ]
  },
  {
   "cell_type": "code",
   "execution_count": 7,
   "metadata": {},
   "outputs": [],
   "source": [
    "converted_data['オッズ'] = converted_data['オッズ'].replace('---',0).astype(float)"
   ]
  },
  {
   "cell_type": "code",
   "execution_count": 8,
   "metadata": {},
   "outputs": [
    {
     "data": {
      "text/plain": [
       "0        2023-01-05\n",
       "1        2023-01-05\n",
       "2        2023-01-05\n",
       "3        2023-01-05\n",
       "4        2023-01-05\n",
       "            ...    \n",
       "592324   2024-12-28\n",
       "592325   2024-12-28\n",
       "592326   2024-12-28\n",
       "592327   2024-12-28\n",
       "592328   2024-12-28\n",
       "Name: 日付, Length: 592329, dtype: datetime64[ns]"
      ]
     },
     "execution_count": 8,
     "metadata": {},
     "output_type": "execute_result"
    }
   ],
   "source": [
    "converted_data['日付'] = converted_data['日付'].map(lambda data: datetime.strptime(data, \"%Y年%m月%d日\"))\n",
    "converted_data['日付']"
   ]
  },
  {
   "cell_type": "code",
   "execution_count": null,
   "metadata": {},
   "outputs": [],
   "source": [
    "# データの保存\n",
    "converted_data.to_csv(\"temp.csv\", index=False)\n",
    "common.insert_data(\"D:/work/Programming/scraping/temp.csv\",table_name='race_data')\n",
    "os.remove(\"temp.csv\")"
   ]
  }
 ],
 "metadata": {
  "kernelspec": {
   "display_name": "Python 3",
   "language": "python",
   "name": "python3"
  },
  "language_info": {
   "codemirror_mode": {
    "name": "ipython",
    "version": 3
   },
   "file_extension": ".py",
   "mimetype": "text/x-python",
   "name": "python",
   "nbconvert_exporter": "python",
   "pygments_lexer": "ipython3",
   "version": "3.10.8"
  }
 },
 "nbformat": 4,
 "nbformat_minor": 2
}
