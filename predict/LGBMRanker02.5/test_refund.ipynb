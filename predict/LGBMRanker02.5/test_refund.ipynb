{
 "cells": [
  {
   "cell_type": "code",
   "execution_count": 18,
   "metadata": {},
   "outputs": [],
   "source": [
    "target_refund_file_path='D://work//Programming//data//race_refund_datas//2024-04_2024-05.csv'\n",
    "# target_predict_file_path='D://work//Programming//predict//LGBMRanker02//predict.csv'\n",
    "\n",
    "import pandas as pd\n",
    "import sys\n",
    "sys.path.append('../../')\n",
    "import common\n",
    "from common import const,utils, calc_methods as calc\n",
    "import numpy as np\n",
    "import copy\n",
    "import tqdm\n",
    "\n",
    "refund = pd.read_csv(target_refund_file_path)\n",
    "# predict = pd.read_csv(target_predict_file_path)\n"
   ]
  },
  {
   "cell_type": "code",
   "execution_count": 19,
   "metadata": {},
   "outputs": [],
   "source": [
    "# 予測対象データの読み込み\n",
    "race_file_path='D://work//Programming//predict//LGBMRanker02.5//2024-04_2024-05.csv'\n",
    "race_data=pd.read_csv(race_file_path)"
   ]
  },
  {
   "cell_type": "code",
   "execution_count": 20,
   "metadata": {},
   "outputs": [],
   "source": [
    "# ラベルエンコーディング(LabelEncoder)\n",
    "from sklearn.preprocessing import LabelEncoder\n",
    "\n",
    "encode_tar_cols = [\n",
    "'性',\n",
    "'斤量',\n",
    "'芝かダートか',\n",
    "'回り',\n",
    "'馬場状態',\n",
    "'天気',]\n",
    "\n",
    "encoded = copy.deepcopy(race_data)\n",
    "\n",
    "le = LabelEncoder()\n",
    "for col in encode_tar_cols:\n",
    "    encoded[col] = le.fit_transform(encoded[col].values)"
   ]
  },
  {
   "cell_type": "code",
   "execution_count": 21,
   "metadata": {},
   "outputs": [],
   "source": [
    "# objectになってしまうので、floatに変換\n",
    "for col in const.VARIABLE[:-1]:\n",
    "    if encoded[col].dtype == 'object':\n",
    "        if col in ['レースID','馬番','枠番','齢','馬のID','騎手のID','距離','競馬場ID']:\n",
    "            encoded[col] = encoded[col].astype('int64')\n",
    "        else:\n",
    "            encoded[col] = encoded[col].astype(float)"
   ]
  },
  {
   "cell_type": "code",
   "execution_count": 22,
   "metadata": {},
   "outputs": [],
   "source": [
    "# target_refund_file_pathのデータにランク付けを行う\n",
    "grouped_data = encoded.groupby('レースID')\n",
    "import trueskill\n",
    "mu = 25.\n",
    "sigma = mu / 3.\n",
    "beta = sigma / 2.\n",
    "tau = sigma / 100.\n",
    "draw_probability = 0.001\n",
    "backend = None\n",
    "env = trueskill.TrueSkill(\n",
    "    mu=mu, sigma=sigma, beta=beta, tau=tau,\n",
    "    draw_probability=draw_probability, backend=backend)"
   ]
  },
  {
   "cell_type": "code",
   "execution_count": 23,
   "metadata": {},
   "outputs": [],
   "source": [
    "# 馬のレートの初期化\n",
    "rank_file_path='D://work//Programming//predict//LGBMRanker02.5//ranked_race_data.csv'\n",
    "race_data=pd.read_csv(rank_file_path)\n",
    "\n",
    "# レースごとにレーティング\n",
    "check=race_data.groupby('馬のID')\n",
    "sorted_by_rate = copy.deepcopy(race_data.loc[check['日付'].idxmax(),:])\n"
   ]
  },
  {
   "cell_type": "code",
   "execution_count": 24,
   "metadata": {},
   "outputs": [],
   "source": [
    "# ランク付け済みデータの取得\n",
    "all_horse_rate_dict={item[1]:env.create_rating(mu=item[2]) for item in sorted_by_rate[['馬のID','最新レート']].itertuples()}\n",
    "uma_list = list(encoded.loc[:,'馬のID'].unique())"
   ]
  },
  {
   "cell_type": "code",
   "execution_count": 25,
   "metadata": {},
   "outputs": [],
   "source": [
    "# race_file_pathにのみ存在する馬のレートの初期化\n",
    "for uma_id in uma_list:\n",
    "    if uma_id not in all_horse_rate_dict.keys():\n",
    "        all_horse_rate_dict[uma_id]=env.create_rating()"
   ]
  },
  {
   "cell_type": "code",
   "execution_count": 26,
   "metadata": {},
   "outputs": [
    {
     "name": "stderr",
     "output_type": "stream",
     "text": [
      "100%|██████████| 552/552 [00:03<00:00, 182.72it/s]\n"
     ]
    }
   ],
   "source": [
    "# 全馬のレートを初期化\n",
    "rate_before_ = []\n",
    "race_rate_ = []\n",
    "race_after_ = []\n",
    "result = pd.DataFrame(columns=encoded.columns.to_list().append(['直前レート','最新レート']))\n",
    "i =0\n",
    "for race_id,df_race in tqdm.tqdm(grouped_data):    \n",
    "    rate_before = [env.expose(all_horse_rate_dict[el[8]]) for el in list(df_race.values)]\n",
    "    # rate_mean = sum(rate_before)/len(rate_before)\n",
    "    # チームを作成（1頭チーム x レースに出場する馬数）\n",
    "    teams = [(all_horse_rate_dict[el[8]],) for el in list(df_race.values)]\n",
    "    # レーティング\n",
    "    teams = env.rate(teams, ranks=list(df_race['着順'].map(lambda x:x-1)))\n",
    "    rate_after = [env.expose(t[0]) for t in teams]\n",
    "    # race_rate = [(x-rate_mean)/(rate_mean + 0.001)*100 for x in rate_after]\n",
    "    for i, el in enumerate(list(df_race.values)):\n",
    "        # レートが高い方で更新\n",
    "        all_horse_rate_dict[el[8]] = max(all_horse_rate_dict[el[8]], teams[i][0])\n",
    "\n",
    "    df_race['直前レート']=rate_before\n",
    "    df_race['最新レート']=rate_after\n",
    "    result=pd.concat([result,df_race])"
   ]
  },
  {
   "cell_type": "code",
   "execution_count": 27,
   "metadata": {},
   "outputs": [],
   "source": [
    "import pickle\n",
    "\n",
    "# モデルの読み込み\n",
    "file_dir = const.BASE_DIR+'predict\\\\LGBMRanker02.5\\\\LGBMRanker02.5.pickle'\n",
    "target_variables = copy.deepcopy(const.VARIABLE)\n",
    "target_variables.append('直前レート')\n",
    "target_variables.remove('着順関連度')\n",
    "X_test_predict =result[target_variables]\n",
    "\n",
    "model = pickle.load(open(file_dir, 'rb'))\n",
    "\n",
    "# 任意のレースを予測\n",
    "_y_pred = model.predict(X_test_predict, num_iteration=model.best_iteration_)\n",
    "\n",
    "\n",
    "# 予測結果や関連度をDataFrameに連結\n",
    "predict = pd.DataFrame({\n",
    "    'レースID': X_test_predict['レースID'],\n",
    "    '馬番': X_test_predict['馬番'],\n",
    "    '馬のID': X_test_predict['馬のID'],\n",
    "    '予想スコア':  _y_pred,\n",
    "})"
   ]
  },
  {
   "cell_type": "code",
   "execution_count": 28,
   "metadata": {},
   "outputs": [
    {
     "name": "stdout",
     "output_type": "stream",
     "text": [
      "購入金額:55200\n",
      "返還金額:42270.0\n",
      "的中率0.05434782608695652\n",
      "回収率:0.7657608695652174\n"
     ]
    }
   ],
   "source": [
    "# 予想スコアが最も高い馬を単勝で購入した場合の回収率を計算\n",
    "\n",
    "# 出力結果\n",
    "#   購入金額:55200\n",
    "#   返還金額:42990.0\n",
    "#   回収率:0.778804347826087\n",
    "\n",
    "purchase_amaount = 0\n",
    "return_amount = 0\n",
    "purchase_count = 0\n",
    "hit_count = 0\n",
    "\n",
    "for race_id,race_info in predict.groupby('レースID'):\n",
    "    target_horse = race_info.sort_values(by='予想スコア',ascending=False)[0:1]\n",
    "    _return = calc.calculate_return_tansho(refund,race_id,100,target_horse['馬番'].values[0])\n",
    "    if _return != 0:\n",
    "        return_amount += _return\n",
    "        hit_count += 1\n",
    "    purchase_amaount += 100\n",
    "    purchase_count+=1\n",
    "\n",
    "print('購入金額:{}'.format(purchase_amaount))\n",
    "print('返還金額:{}'.format(return_amount))\n",
    "print('的中率{}'.format(hit_count/purchase_count))\n",
    "print('回収率:{}'.format(return_amount/purchase_amaount))"
   ]
  },
  {
   "cell_type": "code",
   "execution_count": 29,
   "metadata": {},
   "outputs": [
    {
     "name": "stdout",
     "output_type": "stream",
     "text": [
      "購入金額:55200\n",
      "返還金額:42270.0\n",
      "的中率0.05434782608695652\n",
      "回収率:0.7657608695652174\n"
     ]
    }
   ],
   "source": [
    "# 閾値以上の場合のみ単勝で購入した場合の回収率を計算\n",
    "\n",
    "# 出力結果\n",
    "#   購入金額:42700\n",
    "#   返還金額:35020.0\n",
    "#   回収率:0.8201405152224824\n",
    "\n",
    "\n",
    "# 閾値を予想スコアが0以上の場合の平均で設定\n",
    "threshold = predict[predict['予想スコア']>0]['予想スコア'].mean()\n",
    "\n",
    "purchase_amaount = 0\n",
    "return_amount = 0\n",
    "purchase_count = 0\n",
    "hit_count = 0\n",
    "\n",
    "for race_id,race_info in predict.groupby('レースID'):\n",
    "\n",
    "    target_horse = race_info.sort_values(by='予想スコア',ascending=False)[0:1]\n",
    "    if target_horse['予想スコア'].values[0] < threshold:\n",
    "        continue\n",
    "    _return = calc.calculate_return_tansho(refund,race_id,100,target_horse['馬番'].values[0])\n",
    "    if _return != 0:\n",
    "        return_amount += _return\n",
    "        hit_count += 1\n",
    "    purchase_amaount += 100\n",
    "    purchase_count+=1\n",
    "\n",
    "print('購入金額:{}'.format(purchase_amaount))\n",
    "print('返還金額:{}'.format(return_amount))\n",
    "print('的中率{}'.format(hit_count/purchase_count))\n",
    "print('回収率:{}'.format(return_amount/purchase_amaount))"
   ]
  },
  {
   "cell_type": "code",
   "execution_count": 30,
   "metadata": {},
   "outputs": [
    {
     "name": "stdout",
     "output_type": "stream",
     "text": [
      "購入金額:55200\n",
      "返還金額:38780.0\n",
      "的中率0.19021739130434784\n",
      "回収率:0.702536231884058\n"
     ]
    }
   ],
   "source": [
    "# 予想スコアが最も高い馬を複勝で購入した場合の回収率を計算\n",
    "\n",
    "# 出力結果\n",
    "#   購入金額:55200\n",
    "#   返還金額:47000.0\n",
    "#   回収率:0.8514492753623188\n",
    "\n",
    "purchase_amaount = 0\n",
    "return_amount = 0\n",
    "purchase_count = 0\n",
    "hit_count = 0\n",
    "\n",
    "for race_id,race_info in predict.groupby('レースID'):\n",
    "    target_horse = race_info.sort_values(by='予想スコア',ascending=False)[0:1]\n",
    "    _return = calc.calculate_return_hukusho(refund,race_id,100,target_horse['馬番'].values[0])\n",
    "    if _return != 0:\n",
    "        return_amount += _return\n",
    "        hit_count += 1\n",
    "    purchase_amaount += 100\n",
    "    purchase_count+=1\n",
    "\n",
    "\n",
    "print('購入金額:{}'.format(purchase_amaount))\n",
    "print('返還金額:{}'.format(return_amount))\n",
    "print('的中率{}'.format(hit_count/purchase_count))\n",
    "print('回収率:{}'.format(return_amount/purchase_amaount))"
   ]
  },
  {
   "cell_type": "code",
   "execution_count": 31,
   "metadata": {},
   "outputs": [
    {
     "name": "stdout",
     "output_type": "stream",
     "text": [
      "購入金額:55200\n",
      "返還金額:35220.0\n",
      "的中率0.030797101449275364\n",
      "回収率:0.6380434782608696\n"
     ]
    }
   ],
   "source": [
    "# 予想スコアが上位の馬2頭をワイドで購入した場合の回収率を計算\n",
    "\n",
    "# 出力結果\n",
    "#   購入金額:55200\n",
    "#   返還金額:43820.0\n",
    "#   回収率:0.7938405797101449\n",
    "\n",
    "purchase_amaount = 0\n",
    "return_amount = 0\n",
    "purchase_count = 0\n",
    "hit_count = 0\n",
    "\n",
    "for race_id,race_info in predict.groupby('レースID'):\n",
    "    target_horses = race_info.sort_values(by='予想スコア',ascending=False)[0:2]\n",
    "    _return = calc.calculate_return_wide(refund,race_id,100,target_horses['馬番'].values)\n",
    "    if _return != 0:\n",
    "        return_amount += _return\n",
    "        hit_count += 1\n",
    "    purchase_amaount += 100\n",
    "    purchase_count+=1\n",
    "\n",
    "\n",
    "print('購入金額:{}'.format(purchase_amaount))\n",
    "print('返還金額:{}'.format(return_amount))\n",
    "print('的中率{}'.format(hit_count/purchase_count))\n",
    "print('回収率:{}'.format(return_amount/purchase_amaount))"
   ]
  },
  {
   "cell_type": "code",
   "execution_count": 32,
   "metadata": {},
   "outputs": [
    {
     "name": "stdout",
     "output_type": "stream",
     "text": [
      "購入金額:31300\n",
      "返還金額:0\n",
      "的中率0.0\n",
      "回収率:0.0\n"
     ]
    }
   ],
   "source": [
    "# 予想スコアが上位の半分を3連複ボックスで購入した場合の回収率を計算\n",
    "\n",
    "# 出力結果\n",
    "#   購入金額:31300\n",
    "#   返還金額:28610.0\n",
    "#   回収率:0.9140575079872204\n",
    "\n",
    "from itertools import combinations  \n",
    "\n",
    "purchase_amaount = 0\n",
    "return_amount = 0\n",
    "purchase_count = 0\n",
    "hit_count = 0\n",
    "\n",
    "for race_id,race_info in predict.groupby('レースID'):\n",
    "    # 5分の1を購入\n",
    "    target_num=int(len(race_info)/5)\n",
    "    target_horses = race_info.sort_values(by='予想スコア',ascending=False)[0:target_num]\n",
    "    combinations_list = list(combinations(target_horses['馬番'].values, 3))\n",
    "    for combination in combinations_list:\n",
    "        _return = calc.calculate_return_3renpuku(refund,race_id,100,list(combination)) \n",
    "        if _return != 0:\n",
    "            return_amount += _return\n",
    "            hit_count += 1\n",
    "        purchase_amaount += 100\n",
    "        purchase_count+=1\n",
    "\n",
    "\n",
    "print('購入金額:{}'.format(purchase_amaount))\n",
    "print('返還金額:{}'.format(return_amount))\n",
    "print('的中率{}'.format(hit_count/purchase_count))\n",
    "print('回収率:{}'.format(return_amount/purchase_amaount))"
   ]
  },
  {
   "cell_type": "code",
   "execution_count": 33,
   "metadata": {},
   "outputs": [
    {
     "name": "stdout",
     "output_type": "stream",
     "text": [
      "購入金額:3400\n",
      "返還金額:0\n",
      "的中率0.0\n",
      "回収率:0.0\n"
     ]
    }
   ],
   "source": [
    "# 予想スコアが上位の半分を3連複ボックスで購入した場合の回収率を計算\n",
    "# 初めて100%超えた\n",
    "\n",
    "# 出力結果\n",
    "#   購入金額:3400\n",
    "#   返還金額:4059.9999999999995\n",
    "#   的中率0.08823529411764706\n",
    "#   回収率:1.1941176470588235\n",
    "\n",
    "\n",
    "from itertools import combinations  \n",
    "\n",
    "purchase_amaount = 0\n",
    "return_amount = 0\n",
    "purchase_count = 0\n",
    "hit_count = 0\n",
    "\n",
    "for race_id,race_info in predict.groupby('レースID'):\n",
    "    # 6分の1を購入\n",
    "    target_num=int(len(race_info)/6)\n",
    "    target_horses = race_info.sort_values(by='予想スコア',ascending=False)[0:target_num]\n",
    "    combinations_list = list(combinations(target_horses['馬番'].values, 3))\n",
    "    for combination in combinations_list:\n",
    "        _return = calc.calculate_return_3renpuku(refund,race_id,100,list(combination)) \n",
    "        if _return != 0:\n",
    "            return_amount += _return\n",
    "            hit_count += 1\n",
    "        purchase_amaount += 100\n",
    "        purchase_count+=1\n",
    "\n",
    "\n",
    "print('購入金額:{}'.format(purchase_amaount))\n",
    "print('返還金額:{}'.format(return_amount))\n",
    "print('的中率{}'.format(hit_count/purchase_count))\n",
    "print('回収率:{}'.format(return_amount/purchase_amaount))"
   ]
  },
  {
   "cell_type": "code",
   "execution_count": 34,
   "metadata": {},
   "outputs": [
    {
     "name": "stdout",
     "output_type": "stream",
     "text": [
      "購入金額:187800\n",
      "返還金額:0\n",
      "的中率0.0\n",
      "回収率:0.0\n"
     ]
    }
   ],
   "source": [
    "# 予想スコアが上位の半分を3連単ボックスで購入した場合の回収率を計算\n",
    "\n",
    "# 出力結果\n",
    "#   購入金額:187800\n",
    "#   返還金額:177490.0\n",
    "#   回収率:0.945101171458999\n",
    "\n",
    "from itertools import permutations  \n",
    "\n",
    "purchase_amaount = 0\n",
    "return_amount = 0\n",
    "purchase_count = 0\n",
    "hit_count = 0\n",
    "\n",
    "for race_id,race_info in predict.groupby('レースID'):\n",
    "    target_num=int(len(race_info)/5)\n",
    "    target_horses = race_info.sort_values(by='予想スコア',ascending=False)[0:target_num]\n",
    "    combinations_list = list(permutations(target_horses['馬番'].values, 3))\n",
    "    for combination in combinations_list:\n",
    "        _return = calc.calculate_return_3rentan(refund,race_id,100,list(combination)) \n",
    "        if _return != 0:\n",
    "            return_amount += _return\n",
    "            hit_count += 1\n",
    "        purchase_amaount += 100\n",
    "        purchase_count+=1\n",
    "\n",
    "print('購入金額:{}'.format(purchase_amaount))\n",
    "print('返還金額:{}'.format(return_amount))\n",
    "print('的中率{}'.format(hit_count/purchase_count))\n",
    "print('回収率:{}'.format(return_amount/purchase_amaount))"
   ]
  }
 ],
 "metadata": {
  "kernelspec": {
   "display_name": "Python 3",
   "language": "python",
   "name": "python3"
  },
  "language_info": {
   "codemirror_mode": {
    "name": "ipython",
    "version": 3
   },
   "file_extension": ".py",
   "mimetype": "text/x-python",
   "name": "python",
   "nbconvert_exporter": "python",
   "pygments_lexer": "ipython3",
   "version": "3.10.8"
  }
 },
 "nbformat": 4,
 "nbformat_minor": 2
}
